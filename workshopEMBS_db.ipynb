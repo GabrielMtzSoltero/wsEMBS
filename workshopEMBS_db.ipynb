{
  "nbformat": 4,
  "nbformat_minor": 0,
  "metadata": {
    "colab": {
      "provenance": [],
      "authorship_tag": "ABX9TyMF4xIuoMYQO4x7Ad1B8o7m",
      "include_colab_link": true
    },
    "kernelspec": {
      "name": "python3",
      "display_name": "Python 3"
    },
    "language_info": {
      "name": "python"
    }
  },
  "cells": [
    {
      "cell_type": "markdown",
      "metadata": {
        "id": "view-in-github",
        "colab_type": "text"
      },
      "source": [
        "<a href=\"https://colab.research.google.com/github/GabrielMtzSoltero/wsEMBS/blob/main/workshopEMBS_db.ipynb\" target=\"_parent\"><img src=\"https://colab.research.google.com/assets/colab-badge.svg\" alt=\"Open In Colab\"/></a>"
      ]
    },
    {
      "cell_type": "code",
      "execution_count": 1,
      "metadata": {
        "colab": {
          "base_uri": "https://localhost:8080/"
        },
        "id": "Ky-jam7Gh6Dn",
        "outputId": "d7ed128d-033f-4caf-9c0d-4c23dbd52f88"
      },
      "outputs": [
        {
          "output_type": "stream",
          "name": "stdout",
          "text": [
            "Collecting mysql-connector\n",
            "  Downloading mysql-connector-2.2.9.tar.gz (11.9 MB)\n",
            "\u001b[2K     \u001b[90m━━━━━━━━━━━━━━━━━━━━━━━━━━━━━━━━━━━━━━━━\u001b[0m \u001b[32m11.9/11.9 MB\u001b[0m \u001b[31m35.0 MB/s\u001b[0m eta \u001b[36m0:00:00\u001b[0m\n",
            "\u001b[?25h  Preparing metadata (setup.py) ... \u001b[?25l\u001b[?25hdone\n",
            "Building wheels for collected packages: mysql-connector\n",
            "  Building wheel for mysql-connector (setup.py) ... \u001b[?25l\u001b[?25hdone\n",
            "  Created wheel for mysql-connector: filename=mysql_connector-2.2.9-cp310-cp310-linux_x86_64.whl size=247952 sha256=964032be7c005f3e4a0b283c154396c1cda56b26661b0eb0ca52de3a36af9aa1\n",
            "  Stored in directory: /root/.cache/pip/wheels/76/48/9b/da67ff1a18fe8e9d428f9b1a177716d4a7d363d2bbe83bf6cf\n",
            "Successfully built mysql-connector\n",
            "Installing collected packages: mysql-connector\n",
            "Successfully installed mysql-connector-2.2.9\n"
          ]
        }
      ],
      "source": [
        "!pip install mysql-connector"
      ]
    },
    {
      "cell_type": "code",
      "source": [
        "import mysql.connector\n",
        "import numpy as np"
      ],
      "metadata": {
        "id": "ijV5CaUWiAL4"
      },
      "execution_count": 2,
      "outputs": []
    },
    {
      "cell_type": "code",
      "source": [
        "conexionDB = mysql.connector.connect(\n",
        "        host=\"turtlechamber.com\",\n",
        "        user=\"embs\",\n",
        "        password=\"embs\",\n",
        "        database=\"breast_cancer\"\n",
        "        )\n",
        "cursor=conexionDB.cursor()"
      ],
      "metadata": {
        "id": "n7vIliF1iEWf"
      },
      "execution_count": 14,
      "outputs": []
    },
    {
      "cell_type": "code",
      "source": [
        "query=\"SELECT column_name FROM information_schema.columns WHERE  table_name = 'breast_cancer'\"\n",
        "cursor.execute(query)\n",
        "filas=cursor.fetchall()\n",
        "for fila in filas:\n",
        "  print(fila)"
      ],
      "metadata": {
        "colab": {
          "base_uri": "https://localhost:8080/"
        },
        "id": "KzGtH5dRinYf",
        "outputId": "917a78ec-3ef5-42e5-bb51-b47e2d74a994"
      },
      "execution_count": 15,
      "outputs": [
        {
          "output_type": "stream",
          "name": "stdout",
          "text": [
            "('bc_id',)\n",
            "('bc_diagnosis',)\n",
            "('bc_radius_mean',)\n",
            "('bc_texture_mean',)\n",
            "('bc_perimeter_mean',)\n",
            "('bc_area_mean',)\n",
            "('bc_smoothness_mean',)\n",
            "('bc_compactness_mean',)\n",
            "('bc_concavity_mean',)\n",
            "('bc_concave_points_mean',)\n",
            "('bc_symmetry_mean',)\n",
            "('bc_fractal_dimension_mean',)\n",
            "('bc_radius_se',)\n",
            "('bc_texture_se',)\n",
            "('bc_perimeter_se',)\n",
            "('bc_area_se',)\n",
            "('bc_smoothness_se',)\n",
            "('bc_compactness_se',)\n",
            "('bc_concavity_se',)\n",
            "('bc_concave_points_se',)\n",
            "('bc_symmetry_se',)\n",
            "('bc_fractal_dimension_se',)\n",
            "('bc_radius_worst',)\n",
            "('bc_texture_worst',)\n",
            "('bc_perimeter_worst',)\n",
            "('bc_area_worst',)\n",
            "('bc_smoothness_worst',)\n",
            "('bc_compactness_worst',)\n",
            "('bc_concavity_worst',)\n",
            "('bc_concave_points_worst',)\n",
            "('bc_symmetry_worst',)\n",
            "('bc_fractal_dimension_worst',)\n"
          ]
        }
      ]
    },
    {
      "cell_type": "code",
      "source": [
        "\n",
        "query=\"SELECT * FROM breast_cancer\"\n",
        "# data_list=[ list(fila) for fila in data_tuples]\n",
        "cursor.execute(query)\n",
        "filas=cursor.fetchall()"
      ],
      "metadata": {
        "id": "XjH8CcuWiIzB"
      },
      "execution_count": 19,
      "outputs": []
    },
    {
      "cell_type": "code",
      "source": [
        "print(filas[0])"
      ],
      "metadata": {
        "colab": {
          "base_uri": "https://localhost:8080/"
        },
        "id": "3LPy-pEviYcH",
        "outputId": "57690836-b347-4767-a4b5-48f34b15fefa"
      },
      "execution_count": 18,
      "outputs": [
        {
          "output_type": "stream",
          "name": "stdout",
          "text": [
            "(1, 0.0, 17.99, 10.38, 122.8, 1001.0, 0.1184, 0.2776, 0.3001, 0.1471, 0.2419, 0.07871, 1.095, 0.9053, 8.589, 153.4, 0.006399, 0.04904, 0.05373, 0.01587, 0.03003, 0.006193, 25.38, 17.33, 184.6, 2019.0, 0.1622, 0.6656, 0.7119, 0.2654, 0.4601, 0.1189)\n"
          ]
        }
      ]
    },
    {
      "cell_type": "code",
      "source": [
        "query=\"SELECT count(*) FROM breast_cancer\"\n",
        "# data_list=[ list(fila) for fila in data_tuples]\n",
        "cursor.execute(query)\n",
        "fila=cursor.fetchone()\n",
        "print(fila)"
      ],
      "metadata": {
        "colab": {
          "base_uri": "https://localhost:8080/"
        },
        "id": "yMw_29ObjVMN",
        "outputId": "bf48204f-3784-4025-a4b8-d55067897019"
      },
      "execution_count": 20,
      "outputs": [
        {
          "output_type": "stream",
          "name": "stdout",
          "text": [
            "(569,)\n"
          ]
        }
      ]
    }
  ]
}