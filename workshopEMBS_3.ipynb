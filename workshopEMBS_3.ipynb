{
  "nbformat": 4,
  "nbformat_minor": 0,
  "metadata": {
    "colab": {
      "provenance": [],
      "authorship_tag": "ABX9TyPJ5O275sBoadtwA+zzxfn4",
      "include_colab_link": true
    },
    "kernelspec": {
      "name": "python3",
      "display_name": "Python 3"
    },
    "language_info": {
      "name": "python"
    }
  },
  "cells": [
    {
      "cell_type": "markdown",
      "metadata": {
        "id": "view-in-github",
        "colab_type": "text"
      },
      "source": [
        "<a href=\"https://colab.research.google.com/github/GabrielMtzSoltero/wsEMBS/blob/main/workshopEMBS_3.ipynb\" target=\"_parent\"><img src=\"https://colab.research.google.com/assets/colab-badge.svg\" alt=\"Open In Colab\"/></a>"
      ]
    },
    {
      "cell_type": "code",
      "execution_count": 3,
      "metadata": {
        "id": "kIINMUNBaO-N"
      },
      "outputs": [],
      "source": [
        "import numpy as np\n",
        "import pandas as pd\n",
        "import pickle\n",
        "from sklearn.model_selection import train_test_split\n",
        "from sklearn.neural_network import MLPClassifier\n",
        "from sklearn.metrics import confusion_matrix\n",
        "from sklearn.metrics import classification_report\n",
        "from sklearn.preprocessing import StandardScaler\n",
        "from sklearn.metrics import confusion_matrix,ConfusionMatrixDisplay\n",
        "import matplotlib.pyplot as plt\n",
        "from sklearn.feature_extraction.text import TfidfVectorizer"
      ]
    },
    {
      "cell_type": "code",
      "source": [
        "with open('sample_data/kmer_str_multilabel2.pkl', 'rb') as f:\n",
        "     df=pickle.load(f)\n",
        "     df.info()"
      ],
      "metadata": {
        "id": "yJcopDoyaVj7"
      },
      "execution_count": null,
      "outputs": []
    },
    {
      "cell_type": "code",
      "source": [
        "df.head()"
      ],
      "metadata": {
        "id": "h7jlM2Zgbl34"
      },
      "execution_count": null,
      "outputs": []
    },
    {
      "cell_type": "code",
      "source": [
        "strings=df[\"kmer_str\"]"
      ],
      "metadata": {
        "id": "j3EqFbWqbvt4"
      },
      "execution_count": 30,
      "outputs": []
    },
    {
      "cell_type": "code",
      "source": [
        "strings=[kmer.split(\" \") for kmer in strings]\n",
        "df2 = pd.DataFrame(strings, columns =['kmer1', 'kmer2','kmer3', 'kmer4', 'kmer5', 'kmer6','kmer7','kmer8', 'kmer9','kmer10','kmer11','kmer12','kmer13'])\n",
        "df2.tail()"
      ],
      "metadata": {
        "id": "TzZBH3PEd4dP"
      },
      "execution_count": null,
      "outputs": []
    },
    {
      "cell_type": "code",
      "source": [
        "df=pd.concat([df, df2],axis=1)\n",
        "df.tail()"
      ],
      "metadata": {
        "id": "zQDQyYLaekxc"
      },
      "execution_count": null,
      "outputs": []
    },
    {
      "cell_type": "code",
      "source": [
        "corpus=np.load(\"sample_data/corpus.npy\")\n",
        "print(corpus)\n",
        "corpus=[str(element) for element in corpus]\n",
        "df=df.replace(corpus,[i for i in range(1,len(corpus)+1)])\n",
        "df.head()"
      ],
      "metadata": {
        "id": "jBYYhx2Nbwlh"
      },
      "execution_count": null,
      "outputs": []
    },
    {
      "cell_type": "code",
      "source": [
        "from sklearn.multioutput import MultiOutputClassifier\n",
        "from sklearn.linear_model import LogisticRegression\n",
        "X=df.drop([\"kmer_id\",\"kmer_str\",\"kmer_gocom_id_fk\",\"0000287\",\"0000166\",\"0000027\"], axis = 1)\n",
        "y = np.asarray(df[df.columns[3:6]])\n",
        "#creamos el escalador\n",
        "scaler = StandardScaler()\n",
        "scaledXDF=X.copy()\n",
        "#escalar los valores de entradas\n",
        "scaledXDF[X.columns]=scaler.fit_transform(X)\n",
        "#SPlitting into train and test\n",
        "X_train, X_test, y_train, y_test = train_test_split(scaledXDF, y, test_size = 0.33, random_state=1)\n",
        "model = MultiOutputClassifier(LogisticRegression()).fit(X_train, y_train)\n",
        "y_pred = model.predict(X_test)\n",
        "print(\"score train \",model.score(X_train, y_train))\n",
        "print(\"score_test \",model.score(X_test, y_test))"
      ],
      "metadata": {
        "id": "kqcW5_zrcxPL"
      },
      "execution_count": null,
      "outputs": []
    },
    {
      "cell_type": "code",
      "source": [
        "from sklearn.metrics import hamming_loss\n",
        "print('Hamming Loss: ', hamming_loss(y_test, y_pred))"
      ],
      "metadata": {
        "id": "WsJ5L5W7fvyT"
      },
      "execution_count": null,
      "outputs": []
    },
    {
      "cell_type": "code",
      "source": [
        "\n"
      ],
      "metadata": {
        "id": "YggjLwONjjNb"
      },
      "execution_count": 37,
      "outputs": []
    }
  ]
}